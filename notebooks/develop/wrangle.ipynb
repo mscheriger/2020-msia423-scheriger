{
 "cells": [
  {
   "cell_type": "code",
   "execution_count": 1,
   "metadata": {},
   "outputs": [],
   "source": [
    "import sqlite3\n",
    "import pandas as pd"
   ]
  },
  {
   "cell_type": "code",
   "execution_count": 2,
   "metadata": {},
   "outputs": [],
   "source": [
    "def get_table(cur,table):\n",
    "    '''\n",
    "    This function fetches the entire table from the database.\n",
    "    \n",
    "    :param cur:   SQLite cursor that connects to the database.\n",
    "    :param table: String indicating the name of the table to fetch.\n",
    "    :return:      Pandas DataFrame containing the table.\n",
    "    '''\n",
    "    query = 'SELECT * FROM ' + table + ';'\n",
    "    df = pd.DataFrame(cur.execute(query).fetchall())\n",
    "    names = list(map(lambda x: x[0], cur.description))\n",
    "    dic = dict(zip(range(len(names)), names))\n",
    "    return df.rename(columns=dic)\n",
    "\n",
    "def winner(df):\n",
    "    '''\n",
    "    This function determines who won the match based on the scores.\n",
    "    \n",
    "    :param df: DataFrame of matches. Must contain the home_team_goal and away_team_goal columns.\n",
    "    :return:   String indicating if match winner was \"Home\", \"Away\", or \"Draw\"\n",
    "    \n",
    "    '''\n",
    "    assert df.home_team_goal is not None and df.away_team_goal is not None\n",
    "    if df.home_team_goal > df.away_team_goal:\n",
    "        answer = 'Home'\n",
    "    elif df.home_team_goal < df.away_team_goal:\n",
    "        answer = 'Away'\n",
    "    else:\n",
    "        answer = 'Draw'\n",
    "    return answer\n",
    "\n",
    "def merge_rating(match_df,player_df,col,newname):\n",
    "    '''\n",
    "    This function merges in the overall player ratings into the match dataframe.\n",
    "    \n",
    "    :param match_df:  Dataframe of matches. Must have date variables.\n",
    "    :param player_df: Dataframe containing all player ratings. Must have date and player_id variables\n",
    "    :param col:       String indicating name of the column to be merged with\n",
    "    :param newname:   String indicating the name of the new player rating column\n",
    "    \n",
    "    :return:          Original match dataframe with additional column corresponding to player rating\n",
    "    '''\n",
    "    original = match_df.shape[0]\n",
    "    match_df = match_df.merge(player_df,how='left',left_on=['date',col],right_on=['date','player_id'])\n",
    "    assert all(match_df.loc[match_df[col].notnull()].overall_rating.isna()==False)\n",
    "    assert match_df.shape[0]==original\n",
    "    match_df.rename(columns={'overall_rating':newname},inplace=True)\n",
    "    match_df.drop(columns='player_id',inplace=True)\n",
    "    return match_df\n",
    "\n",
    "def eng_ratings(match_df):\n",
    "    '''\n",
    "    This function calculates the average overall player score, as well as the defense, midfield, and offensive average\n",
    "    Must have the home and away player scores already in the dataframe.\n",
    "    \n",
    "    :param match_df: Dataframe of matches\n",
    "    \n",
    "    :return:         Original dataframe with additional columns of averages for home and away team.\n",
    "    '''\n",
    "    final_df = match_df.copy()\n",
    "    final_df['home_overall_rating'] = match_df[['hp1','hp2','hp3','hp4','hp5','hp6','hp7','hp8','hp9','hp10','hp11']].mean(axis=1)\n",
    "    final_df['away_overall_rating'] = match_df[['ap1','ap2','ap3','ap4','ap5','ap6','ap7','ap8','ap9','ap10','ap11']].mean(axis=1)\n",
    "    final_df['home_def_rating'] = match_df[['hp2','hp3','hp4','hp5']].mean(axis=1)\n",
    "    final_df['away_def_rating'] = match_df[['ap2','ap3','ap4','ap5']].mean(axis=1)\n",
    "    final_df['home_mid_rating'] = match_df[['hp6','hp7','hp8']].mean(axis=1)\n",
    "    final_df['away_mid_rating'] = match_df[['ap6','ap7','ap8']].mean(axis=1)\n",
    "    final_df['home_off_rating'] = match_df[['hp9','hp10','hp11']].mean(axis=1)\n",
    "    final_df['away_off_rating'] = match_df[['ap9','ap10','ap11']].mean(axis=1)\n",
    "    return final_df\n",
    "\n",
    "def ewma_score(match_df,a=.5,p=4):\n",
    "    '''\n",
    "    This function creates an exponentially weighted moving average of the teams record over the season.\n",
    "    \n",
    "    :param match_df: Dataframe of matches\n",
    "    :param a: Float indicating the rate of decay for the moving average. Must be >0 and <=1\n",
    "    :param p: Int indicating how many periods to skip at beginning of season. Default is 4\n",
    "    '''\n",
    "    home_teams = match_df[['date','season','home_team_api_id','outcome']].rename(columns={'home_team_api_id':'team_id'})\n",
    "    home_teams['ewma'] = 0\n",
    "    home_teams.loc[home_teams.outcome=='Home','ewma']=1\n",
    "    home_teams.loc[home_teams.outcome=='Away','ewma']=-1\n",
    "    away_teams = match_df[['date','season','away_team_api_id','outcome']].rename(columns={'away_team_api_id':'team_id'})\n",
    "    away_teams['ewma'] = 0\n",
    "    away_teams.loc[away_teams.outcome=='Home','ewma']=-1\n",
    "    away_teams.loc[away_teams.outcome=='Away','ewma']=1\n",
    "    all_teams = home_teams.append(away_teams).sort_values(by=['team_id','date'])\n",
    "    all_teams = all_teams.drop(columns='outcome')\n",
    "    all_teams['ewma'] = all_teams.groupby(['team_id','season'])['ewma'].transform(lambda v: v.ewm(alpha=a,min_periods=p).mean())\n",
    "    all_teams = all_teams.fillna(0)\n",
    "\n",
    "    check_rows = match_df.shape[0]\n",
    "    check_cols = match_df.shape[1]\n",
    "    match_df = match_df.merge(all_teams,left_on=['home_team_api_id','season','date'],right_on=['team_id','season','date'],how='left')\n",
    "    match_df = match_df.rename(columns={'ewma':'home_ewma'})\n",
    "    match_df = match_df.drop(columns=['team_id'])\n",
    "    match_df = match_df.merge(all_teams,left_on=['away_team_api_id','season','date'],right_on=['team_id','season','date'],how='left')\n",
    "    match_df = match_df.rename(columns={'ewma':'away_ewma'})\n",
    "    match_df = match_df.drop(columns=['team_id'])\n",
    "    \n",
    "    assert check_rows==match_df.shape[0]\n",
    "    assert check_cols+2==match_df.shape[1]\n",
    "    \n",
    "    return match_df"
   ]
  },
  {
   "cell_type": "code",
   "execution_count": 3,
   "metadata": {},
   "outputs": [],
   "source": [
    "conn = sqlite3.connect(\"database.db\")\n",
    "cur = conn.cursor()"
   ]
  },
  {
   "cell_type": "code",
   "execution_count": 4,
   "metadata": {},
   "outputs": [],
   "source": [
    "country = get_table(cur,'Country')\n",
    "league = get_table(cur,'League')\n",
    "match = get_table(cur,'Match')\n",
    "player = get_table(cur,'Player')\n",
    "player_attributes = get_table(cur,'Player_Attributes')\n",
    "team = get_table(cur,'Team')\n",
    "team_attributes = get_table(cur,'Team_Attributes')"
   ]
  },
  {
   "cell_type": "code",
   "execution_count": 5,
   "metadata": {},
   "outputs": [],
   "source": [
    "##Keep only the top 5 leagues\n",
    "match = match.loc[match.league_id.isin((1729,4769,7809,10257,21518))]\n",
    "\n",
    "##Drop unused variables\n",
    "droplabels = [name+str(i) for name in ('home_player_X','home_player_Y','away_player_X','away_player_Y') for i in range(1,12)] + ['goal','shoton','shotoff','foulcommit','card','cross','corner','possession']\n",
    "match = match.drop(labels=droplabels,axis=1)\n",
    "\n",
    "##Create outcome feature\n",
    "match['outcome'] = match.apply(winner,axis=1)"
   ]
  },
  {
   "cell_type": "code",
   "execution_count": 6,
   "metadata": {},
   "outputs": [],
   "source": [
    "##Create dataframe containing overal player score based on date. Fill down if missing.\n",
    "\n",
    "player_vars = [name+str(i) for name in ('home_player_','away_player_') for i in range(1,12)] + ['date']\n",
    "player_list = match.drop(match.columns.difference(player_vars), axis=1)\n",
    "player_list = player_list.melt(id_vars = 'date',var_name='player',value_name='player_id')\n",
    "player_list = player_list.drop(labels='player',axis=1)\n",
    "\n",
    "attributes = player_attributes.drop(player_attributes.columns.difference(['date','player_api_id','overall_rating']),axis=1)\n",
    "attributes.rename(columns={'player_api_id':'player_id'},inplace=True)\n",
    "player_list = player_list.append(attributes,ignore_index=True,sort=False).drop_duplicates()\n",
    "player_list = player_list.sort_values(by=['player_id','date'])\n",
    "player_list = player_list.loc[player_list.player_id.isna()==False]\n",
    "player_list['overall_rating'] = player_list.groupby('player_id')['overall_rating'].transform(lambda v: v.ffill())\n",
    "\n",
    "##Some players have multiple ratings on the same day - take average\n",
    "player_list = pd.DataFrame(player_list.groupby(['player_id','date'])['overall_rating'].mean()).reset_index()"
   ]
  },
  {
   "cell_type": "code",
   "execution_count": 7,
   "metadata": {},
   "outputs": [
    {
     "name": "stdout",
     "output_type": "stream",
     "text": [
      "(500719, 3)\n"
     ]
    },
    {
     "data": {
      "text/plain": [
       "player_id         0\n",
       "date              0\n",
       "overall_rating    0\n",
       "dtype: int64"
      ]
     },
     "execution_count": 7,
     "metadata": {},
     "output_type": "execute_result"
    }
   ],
   "source": [
    "## Check there are no missing values\n",
    "print(player_list.shape)\n",
    "player_list.isnull().sum()"
   ]
  },
  {
   "cell_type": "code",
   "execution_count": 8,
   "metadata": {},
   "outputs": [],
   "source": [
    "## Merge Overall scores with match dataframe\n",
    "for i in range(1,12):\n",
    "    for name in ('home_player_','away_player_'):\n",
    "        col = name+str(i)\n",
    "        if name=='home_player_':\n",
    "            newname = 'hp'+str(i)\n",
    "        else:\n",
    "            newname = 'ap'+str(i)\n",
    "        match = merge_rating(match,player_list,col,newname)"
   ]
  },
  {
   "cell_type": "code",
   "execution_count": 9,
   "metadata": {},
   "outputs": [],
   "source": [
    "## Calculate average rating scores\n",
    "match = eng_ratings(match)\n",
    "\n",
    "## Calculate ewma \n",
    "match = ewma_score(match)\n",
    "\n",
    "match.to_csv('matches.csv',index=False)"
   ]
  }
 ],
 "metadata": {
  "kernelspec": {
   "display_name": "Python 3",
   "language": "python",
   "name": "python3"
  },
  "language_info": {
   "codemirror_mode": {
    "name": "ipython",
    "version": 3
   },
   "file_extension": ".py",
   "mimetype": "text/x-python",
   "name": "python",
   "nbconvert_exporter": "python",
   "pygments_lexer": "ipython3",
   "version": "3.7.4"
  }
 },
 "nbformat": 4,
 "nbformat_minor": 2
}
